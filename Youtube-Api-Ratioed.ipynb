{
 "cells": [
  {
   "cell_type": "markdown",
   "metadata": {},
   "source": [
    "# this is a program to accomplish the following\n",
    "\n",
    "Select a youtube channel you want to analyze. Then put in its channel id in the cell below. \n",
    "If you do not know where to find in the channel id, you can post in a URL from a video from the channel in the link:\n",
    "https://commentpicker.com/youtube-channel-id.php   to find the channel id.\n",
    "\n",
    "Then run the code and you will end with a dataframe that all the videos from that and the corresponding stats for those videos: Views, likes, dislikes and comment -counts. You will also get the ratios between views, comments, likes and dislikes.\n",
    "This is interesting, because those ratios tells us something about the views engagements with the content and channel.\n",
    "\n",
    "\n",
    "- Put in the channel ID of the creator you want to examine and run the rest of the code.\n",
    "\n"
   ]
  },
  {
   "cell_type": "code",
   "execution_count": 21,
   "metadata": {
    "ExecuteTime": {
     "end_time": "2021-06-22T16:25:49.685208Z",
     "start_time": "2021-06-22T16:25:49.682345Z"
    }
   },
   "outputs": [],
   "source": [
    "import requests\n",
    "import pandas as pd\n",
    "import numpy as np\n",
    "\n",
    "YT_API = \"Get you own key at youtube api\"\n",
    "from googleapiclient.discovery import build\n",
    "\n",
    "# run rependencies\n",
    "\n"
   ]
  },
  {
   "cell_type": "code",
   "execution_count": 22,
   "metadata": {
    "ExecuteTime": {
     "end_time": "2021-06-22T16:25:51.420469Z",
     "start_time": "2021-06-22T16:25:51.414550Z"
    }
   },
   "outputs": [],
   "source": [
    "youtube = build('youtube', 'v3', developerKey=YT_API)"
   ]
  },
  {
   "cell_type": "code",
   "execution_count": 23,
   "metadata": {
    "ExecuteTime": {
     "end_time": "2021-06-22T16:25:54.242844Z",
     "start_time": "2021-06-22T16:25:54.238805Z"
    }
   },
   "outputs": [],
   "source": [
    "def get_channel_videos(channel_id):\n",
    "    res = youtube.channels().list(id=channel_id,\n",
    "                                 part='contentDetails').execute()\n",
    "    \n",
    "    playlist_id = res ['items'][0]['contentDetails']['relatedPlaylists']['uploads']\n",
    "    \n",
    "    videos = []\n",
    "    next_page_token = None\n",
    "    \n",
    "    while 1:\n",
    "        res = youtube.playlistItems().list(playlistId = playlist_id,\n",
    "                                          part='snippet',\n",
    "                                          maxResults=50,\n",
    "                                          pageToken=next_page_token).execute()\n",
    "        \n",
    "        videos += res['items']\n",
    "        next_page_token = res.get('nextPageToken')\n",
    "        \n",
    "        if next_page_token is None:\n",
    "            break\n",
    "            \n",
    "    return videos"
   ]
  },
  {
   "cell_type": "markdown",
   "metadata": {},
   "source": [
    "# here below put in channel ID"
   ]
  },
  {
   "cell_type": "code",
   "execution_count": 57,
   "metadata": {
    "ExecuteTime": {
     "end_time": "2021-06-22T16:53:13.157620Z",
     "start_time": "2021-06-22T16:53:08.514904Z"
    }
   },
   "outputs": [],
   "source": [
    "# Here you put in the channel ID of the creator you want to examine. \n",
    "# The channel id can be found in end of the URL to the channel on youtube\n",
    "\n",
    "#videos =  get_channel_videos('UCkUq-s6z57uJFUFBvZIVTyg')  # this is with the cid , original of the tutor\n",
    "# run this one to make the var with all videos used to generate further variables for stats\n",
    "\n",
    "\n",
    "#videos =  get_channel_videos('UCupvZG-5ko_eiXAupbDfxWw')   # CNN\n",
    "videos =  get_channel_videos('UCIveFvW-ARp_B_RckhweNJw')   # Steven Crowder"
   ]
  },
  {
   "cell_type": "code",
   "execution_count": 58,
   "metadata": {
    "ExecuteTime": {
     "end_time": "2021-06-22T16:53:18.984019Z",
     "start_time": "2021-06-22T16:53:18.980064Z"
    }
   },
   "outputs": [],
   "source": [
    "video_ids = list(map(lambda x:x['snippet']['resourceId']['videoId'], videos))   # this one is needed\n",
    "# to \n",
    "# map all the IDs of the videos in the videos I just found with the other function"
   ]
  },
  {
   "cell_type": "code",
   "execution_count": 59,
   "metadata": {
    "ExecuteTime": {
     "end_time": "2021-06-22T16:53:20.084185Z",
     "start_time": "2021-06-22T16:53:20.080744Z"
    }
   },
   "outputs": [],
   "source": [
    "def get_videos_stats(video_ids):\n",
    "    stats = []\n",
    "    for i in range(0, len(video_ids), 50): # i can pass max 50 videos at a time, therefore the 50\n",
    "        res = youtube.videos().list(id=','.join(video_ids[i:i+50]), # making list of video IDs\n",
    "                                    part='statistics').execute()\n",
    "        stats += res['items']\n",
    "                     \n",
    "    return stats \n",
    "\n"
   ]
  },
  {
   "cell_type": "code",
   "execution_count": 60,
   "metadata": {
    "ExecuteTime": {
     "end_time": "2021-06-22T16:53:24.957580Z",
     "start_time": "2021-06-22T16:53:21.111809Z"
    }
   },
   "outputs": [],
   "source": [
    "stats = get_videos_stats(video_ids)"
   ]
  },
  {
   "cell_type": "code",
   "execution_count": 61,
   "metadata": {
    "ExecuteTime": {
     "end_time": "2021-06-22T16:53:25.799719Z",
     "start_time": "2021-06-22T16:53:25.796019Z"
    }
   },
   "outputs": [],
   "source": [
    "listTitle = []\n",
    "for video in videos:\n",
    "    listTitle.append(video['snippet']['title'])\n",
    "    \n",
    "titles = pd.DataFrame(listTitle)\n"
   ]
  },
  {
   "cell_type": "code",
   "execution_count": 62,
   "metadata": {
    "ExecuteTime": {
     "end_time": "2021-06-22T16:53:27.313836Z",
     "start_time": "2021-06-22T16:53:27.307445Z"
    }
   },
   "outputs": [
    {
     "data": {
      "text/html": [
       "<div>\n",
       "<style scoped>\n",
       "    .dataframe tbody tr th:only-of-type {\n",
       "        vertical-align: middle;\n",
       "    }\n",
       "\n",
       "    .dataframe tbody tr th {\n",
       "        vertical-align: top;\n",
       "    }\n",
       "\n",
       "    .dataframe thead th {\n",
       "        text-align: right;\n",
       "    }\n",
       "</style>\n",
       "<table border=\"1\" class=\"dataframe\">\n",
       "  <thead>\n",
       "    <tr style=\"text-align: right;\">\n",
       "      <th></th>\n",
       "      <th>0</th>\n",
       "    </tr>\n",
       "  </thead>\n",
       "  <tbody>\n",
       "    <tr>\n",
       "      <th>0</th>\n",
       "      <td>The Greatest SELF OWN: H3H3 REKTS Himself...BR...</td>\n",
       "    </tr>\n",
       "    <tr>\n",
       "      <th>1</th>\n",
       "      <td>Who ACTUALLY Divides Americans?? Don Lemon Pus...</td>\n",
       "    </tr>\n",
       "    <tr>\n",
       "      <th>2</th>\n",
       "      <td>Leader of the Free World?? Putin EXPOSES Biden...</td>\n",
       "    </tr>\n",
       "    <tr>\n",
       "      <th>3</th>\n",
       "      <td>BIDEN-PUTIN SHOWDOWN: How Will Biden Compare t...</td>\n",
       "    </tr>\n",
       "    <tr>\n",
       "      <th>4</th>\n",
       "      <td>Is Jon Stewart a Conspiracy Theorist?! Lab Lea...</td>\n",
       "    </tr>\n",
       "    <tr>\n",
       "      <th>...</th>\n",
       "      <td>...</td>\n",
       "    </tr>\n",
       "    <tr>\n",
       "      <th>1180</th>\n",
       "      <td>Abortion is SUPER FUN!!</td>\n",
       "    </tr>\n",
       "    <tr>\n",
       "      <th>1181</th>\n",
       "      <td>GO GREEN... NOT! Captain Planet &amp; Obama's Poli...</td>\n",
       "    </tr>\n",
       "    <tr>\n",
       "      <th>1182</th>\n",
       "      <td>A Farewell to Bush, LIBERAL CELEBS + Brad Pitt...</td>\n",
       "    </tr>\n",
       "    <tr>\n",
       "      <th>1183</th>\n",
       "      <td>Hamas children, THE GAYS and Sarah Palin!</td>\n",
       "    </tr>\n",
       "    <tr>\n",
       "      <th>1184</th>\n",
       "      <td>GO TEAM ISRAEL! (featuring Obama's moobs)</td>\n",
       "    </tr>\n",
       "  </tbody>\n",
       "</table>\n",
       "<p>1185 rows × 1 columns</p>\n",
       "</div>"
      ],
      "text/plain": [
       "                                                      0\n",
       "0     The Greatest SELF OWN: H3H3 REKTS Himself...BR...\n",
       "1     Who ACTUALLY Divides Americans?? Don Lemon Pus...\n",
       "2     Leader of the Free World?? Putin EXPOSES Biden...\n",
       "3     BIDEN-PUTIN SHOWDOWN: How Will Biden Compare t...\n",
       "4     Is Jon Stewart a Conspiracy Theorist?! Lab Lea...\n",
       "...                                                 ...\n",
       "1180                            Abortion is SUPER FUN!!\n",
       "1181  GO GREEN... NOT! Captain Planet & Obama's Poli...\n",
       "1182  A Farewell to Bush, LIBERAL CELEBS + Brad Pitt...\n",
       "1183          Hamas children, THE GAYS and Sarah Palin!\n",
       "1184          GO TEAM ISRAEL! (featuring Obama's moobs)\n",
       "\n",
       "[1185 rows x 1 columns]"
      ]
     },
     "execution_count": 62,
     "metadata": {},
     "output_type": "execute_result"
    }
   ],
   "source": [
    "titles"
   ]
  },
  {
   "cell_type": "code",
   "execution_count": 63,
   "metadata": {
    "ExecuteTime": {
     "end_time": "2021-06-22T16:53:28.946458Z",
     "start_time": "2021-06-22T16:53:28.918940Z"
    }
   },
   "outputs": [],
   "source": [
    "nstats= pd.json_normalize(stats) \n",
    "nstats['Title'] = titles"
   ]
  },
  {
   "cell_type": "code",
   "execution_count": 64,
   "metadata": {
    "ExecuteTime": {
     "end_time": "2021-06-22T16:53:30.129689Z",
     "start_time": "2021-06-22T16:53:30.125473Z"
    }
   },
   "outputs": [],
   "source": [
    "nstats.drop(columns=(['etag','kind','statistics.favoriteCount']),inplace=True)"
   ]
  },
  {
   "cell_type": "code",
   "execution_count": 65,
   "metadata": {
    "ExecuteTime": {
     "end_time": "2021-06-22T16:53:32.092738Z",
     "start_time": "2021-06-22T16:53:32.089058Z"
    }
   },
   "outputs": [],
   "source": [
    "df = nstats.reindex(columns=['Title', 'id', 'statistics.viewCount', 'statistics.likeCount', 'statistics.dislikeCount', 'statistics.commentCount'])"
   ]
  },
  {
   "cell_type": "code",
   "execution_count": 66,
   "metadata": {
    "ExecuteTime": {
     "end_time": "2021-06-22T16:53:33.762989Z",
     "start_time": "2021-06-22T16:53:33.757643Z"
    }
   },
   "outputs": [],
   "source": [
    "# float, because when i did to int8 it changed the values, some of them to egatives, so the data was 'useless' as int8. float works\n",
    "df = df.astype({'statistics.likeCount': np.float, 'statistics.viewCount': np.float, 'statistics.dislikeCount': np.float, 'statistics.commentCount': np.float})"
   ]
  },
  {
   "cell_type": "code",
   "execution_count": 67,
   "metadata": {
    "ExecuteTime": {
     "end_time": "2021-06-22T16:53:35.605432Z",
     "start_time": "2021-06-22T16:53:35.582786Z"
    }
   },
   "outputs": [
    {
     "data": {
      "text/html": [
       "<div>\n",
       "<style scoped>\n",
       "    .dataframe tbody tr th:only-of-type {\n",
       "        vertical-align: middle;\n",
       "    }\n",
       "\n",
       "    .dataframe tbody tr th {\n",
       "        vertical-align: top;\n",
       "    }\n",
       "\n",
       "    .dataframe thead th {\n",
       "        text-align: right;\n",
       "    }\n",
       "</style>\n",
       "<table border=\"1\" class=\"dataframe\">\n",
       "  <thead>\n",
       "    <tr style=\"text-align: right;\">\n",
       "      <th></th>\n",
       "      <th>Title</th>\n",
       "      <th>id</th>\n",
       "      <th>statistics.viewCount</th>\n",
       "      <th>statistics.likeCount</th>\n",
       "      <th>statistics.dislikeCount</th>\n",
       "      <th>statistics.commentCount</th>\n",
       "      <th>Likes per Views</th>\n",
       "      <th>DisLikes per Views</th>\n",
       "      <th>Comment per Views</th>\n",
       "      <th>Comment per Like</th>\n",
       "      <th>Comment per DisLike</th>\n",
       "    </tr>\n",
       "  </thead>\n",
       "  <tbody>\n",
       "    <tr>\n",
       "      <th>0</th>\n",
       "      <td>The Greatest SELF OWN: H3H3 REKTS Himself...BR...</td>\n",
       "      <td>WOEV8lIiJ0I</td>\n",
       "      <td>377209.0</td>\n",
       "      <td>49196.0</td>\n",
       "      <td>4743.0</td>\n",
       "      <td>11850.0</td>\n",
       "      <td>0.130421</td>\n",
       "      <td>0.012574</td>\n",
       "      <td>0.031415</td>\n",
       "      <td>0.240873</td>\n",
       "      <td>2.498419</td>\n",
       "    </tr>\n",
       "    <tr>\n",
       "      <th>1</th>\n",
       "      <td>Who ACTUALLY Divides Americans?? Don Lemon Pus...</td>\n",
       "      <td>m4KGvco-Yrg</td>\n",
       "      <td>659102.0</td>\n",
       "      <td>44950.0</td>\n",
       "      <td>3498.0</td>\n",
       "      <td>11463.0</td>\n",
       "      <td>0.068199</td>\n",
       "      <td>0.005307</td>\n",
       "      <td>0.017392</td>\n",
       "      <td>0.255017</td>\n",
       "      <td>3.277015</td>\n",
       "    </tr>\n",
       "    <tr>\n",
       "      <th>2</th>\n",
       "      <td>Leader of the Free World?? Putin EXPOSES Biden...</td>\n",
       "      <td>ITH54P6b1hg</td>\n",
       "      <td>982008.0</td>\n",
       "      <td>73265.0</td>\n",
       "      <td>1440.0</td>\n",
       "      <td>7404.0</td>\n",
       "      <td>0.074607</td>\n",
       "      <td>0.001466</td>\n",
       "      <td>0.007540</td>\n",
       "      <td>0.101058</td>\n",
       "      <td>5.141667</td>\n",
       "    </tr>\n",
       "    <tr>\n",
       "      <th>3</th>\n",
       "      <td>BIDEN-PUTIN SHOWDOWN: How Will Biden Compare t...</td>\n",
       "      <td>djI7BEeb7tk</td>\n",
       "      <td>800996.0</td>\n",
       "      <td>57145.0</td>\n",
       "      <td>960.0</td>\n",
       "      <td>6567.0</td>\n",
       "      <td>0.071342</td>\n",
       "      <td>0.001199</td>\n",
       "      <td>0.008199</td>\n",
       "      <td>0.114918</td>\n",
       "      <td>6.840625</td>\n",
       "    </tr>\n",
       "    <tr>\n",
       "      <th>4</th>\n",
       "      <td>Is Jon Stewart a Conspiracy Theorist?! Lab Lea...</td>\n",
       "      <td>vHy6YEB3TxI</td>\n",
       "      <td>981514.0</td>\n",
       "      <td>71912.0</td>\n",
       "      <td>932.0</td>\n",
       "      <td>7905.0</td>\n",
       "      <td>0.073266</td>\n",
       "      <td>0.000950</td>\n",
       "      <td>0.008054</td>\n",
       "      <td>0.109926</td>\n",
       "      <td>8.481760</td>\n",
       "    </tr>\n",
       "    <tr>\n",
       "      <th>...</th>\n",
       "      <td>...</td>\n",
       "      <td>...</td>\n",
       "      <td>...</td>\n",
       "      <td>...</td>\n",
       "      <td>...</td>\n",
       "      <td>...</td>\n",
       "      <td>...</td>\n",
       "      <td>...</td>\n",
       "      <td>...</td>\n",
       "      <td>...</td>\n",
       "      <td>...</td>\n",
       "    </tr>\n",
       "    <tr>\n",
       "      <th>1180</th>\n",
       "      <td>Abortion is SUPER FUN!!</td>\n",
       "      <td>5atn-FwfNQM</td>\n",
       "      <td>190639.0</td>\n",
       "      <td>5391.0</td>\n",
       "      <td>700.0</td>\n",
       "      <td>3699.0</td>\n",
       "      <td>0.028279</td>\n",
       "      <td>0.003672</td>\n",
       "      <td>0.019403</td>\n",
       "      <td>0.686144</td>\n",
       "      <td>5.284286</td>\n",
       "    </tr>\n",
       "    <tr>\n",
       "      <th>1181</th>\n",
       "      <td>GO GREEN... NOT! Captain Planet &amp; Obama's Poli...</td>\n",
       "      <td>aT8Q94LqJcU</td>\n",
       "      <td>71296.0</td>\n",
       "      <td>1841.0</td>\n",
       "      <td>409.0</td>\n",
       "      <td>960.0</td>\n",
       "      <td>0.025822</td>\n",
       "      <td>0.005737</td>\n",
       "      <td>0.013465</td>\n",
       "      <td>0.521456</td>\n",
       "      <td>2.347188</td>\n",
       "    </tr>\n",
       "    <tr>\n",
       "      <th>1182</th>\n",
       "      <td>A Farewell to Bush, LIBERAL CELEBS + Brad Pitt...</td>\n",
       "      <td>pxPMYH9c8gY</td>\n",
       "      <td>59025.0</td>\n",
       "      <td>1666.0</td>\n",
       "      <td>226.0</td>\n",
       "      <td>603.0</td>\n",
       "      <td>0.028225</td>\n",
       "      <td>0.003829</td>\n",
       "      <td>0.010216</td>\n",
       "      <td>0.361945</td>\n",
       "      <td>2.668142</td>\n",
       "    </tr>\n",
       "    <tr>\n",
       "      <th>1183</th>\n",
       "      <td>Hamas children, THE GAYS and Sarah Palin!</td>\n",
       "      <td>b26kD9rmLc4</td>\n",
       "      <td>75934.0</td>\n",
       "      <td>2249.0</td>\n",
       "      <td>755.0</td>\n",
       "      <td>767.0</td>\n",
       "      <td>0.029618</td>\n",
       "      <td>0.009943</td>\n",
       "      <td>0.010101</td>\n",
       "      <td>0.341040</td>\n",
       "      <td>1.015894</td>\n",
       "    </tr>\n",
       "    <tr>\n",
       "      <th>1184</th>\n",
       "      <td>GO TEAM ISRAEL! (featuring Obama's moobs)</td>\n",
       "      <td>uiBFdxdvn5M</td>\n",
       "      <td>112622.0</td>\n",
       "      <td>3702.0</td>\n",
       "      <td>963.0</td>\n",
       "      <td>1153.0</td>\n",
       "      <td>0.032871</td>\n",
       "      <td>0.008551</td>\n",
       "      <td>0.010238</td>\n",
       "      <td>0.311453</td>\n",
       "      <td>1.197300</td>\n",
       "    </tr>\n",
       "  </tbody>\n",
       "</table>\n",
       "<p>1185 rows × 11 columns</p>\n",
       "</div>"
      ],
      "text/plain": [
       "                                                  Title           id  \\\n",
       "0     The Greatest SELF OWN: H3H3 REKTS Himself...BR...  WOEV8lIiJ0I   \n",
       "1     Who ACTUALLY Divides Americans?? Don Lemon Pus...  m4KGvco-Yrg   \n",
       "2     Leader of the Free World?? Putin EXPOSES Biden...  ITH54P6b1hg   \n",
       "3     BIDEN-PUTIN SHOWDOWN: How Will Biden Compare t...  djI7BEeb7tk   \n",
       "4     Is Jon Stewart a Conspiracy Theorist?! Lab Lea...  vHy6YEB3TxI   \n",
       "...                                                 ...          ...   \n",
       "1180                            Abortion is SUPER FUN!!  5atn-FwfNQM   \n",
       "1181  GO GREEN... NOT! Captain Planet & Obama's Poli...  aT8Q94LqJcU   \n",
       "1182  A Farewell to Bush, LIBERAL CELEBS + Brad Pitt...  pxPMYH9c8gY   \n",
       "1183          Hamas children, THE GAYS and Sarah Palin!  b26kD9rmLc4   \n",
       "1184          GO TEAM ISRAEL! (featuring Obama's moobs)  uiBFdxdvn5M   \n",
       "\n",
       "      statistics.viewCount  statistics.likeCount  statistics.dislikeCount  \\\n",
       "0                 377209.0               49196.0                   4743.0   \n",
       "1                 659102.0               44950.0                   3498.0   \n",
       "2                 982008.0               73265.0                   1440.0   \n",
       "3                 800996.0               57145.0                    960.0   \n",
       "4                 981514.0               71912.0                    932.0   \n",
       "...                    ...                   ...                      ...   \n",
       "1180              190639.0                5391.0                    700.0   \n",
       "1181               71296.0                1841.0                    409.0   \n",
       "1182               59025.0                1666.0                    226.0   \n",
       "1183               75934.0                2249.0                    755.0   \n",
       "1184              112622.0                3702.0                    963.0   \n",
       "\n",
       "      statistics.commentCount  Likes per Views  DisLikes per Views  \\\n",
       "0                     11850.0         0.130421            0.012574   \n",
       "1                     11463.0         0.068199            0.005307   \n",
       "2                      7404.0         0.074607            0.001466   \n",
       "3                      6567.0         0.071342            0.001199   \n",
       "4                      7905.0         0.073266            0.000950   \n",
       "...                       ...              ...                 ...   \n",
       "1180                   3699.0         0.028279            0.003672   \n",
       "1181                    960.0         0.025822            0.005737   \n",
       "1182                    603.0         0.028225            0.003829   \n",
       "1183                    767.0         0.029618            0.009943   \n",
       "1184                   1153.0         0.032871            0.008551   \n",
       "\n",
       "      Comment per Views  Comment per Like  Comment per DisLike  \n",
       "0              0.031415          0.240873             2.498419  \n",
       "1              0.017392          0.255017             3.277015  \n",
       "2              0.007540          0.101058             5.141667  \n",
       "3              0.008199          0.114918             6.840625  \n",
       "4              0.008054          0.109926             8.481760  \n",
       "...                 ...               ...                  ...  \n",
       "1180           0.019403          0.686144             5.284286  \n",
       "1181           0.013465          0.521456             2.347188  \n",
       "1182           0.010216          0.361945             2.668142  \n",
       "1183           0.010101          0.341040             1.015894  \n",
       "1184           0.010238          0.311453             1.197300  \n",
       "\n",
       "[1185 rows x 11 columns]"
      ]
     },
     "execution_count": 67,
     "metadata": {},
     "output_type": "execute_result"
    }
   ],
   "source": [
    "df['Likes per Views'] = df['statistics.likeCount']/df['statistics.viewCount']\n",
    "df['DisLikes per Views'] = df['statistics.dislikeCount']/df['statistics.viewCount']\n",
    "df['Comment per Views'] = df['statistics.commentCount']/df['statistics.viewCount']\n",
    "df['Comment per Like'] = df['statistics.commentCount']/df['statistics.likeCount']\n",
    "df['Comment per DisLike'] = df['statistics.commentCount']/df['statistics.dislikeCount']\n",
    "df"
   ]
  },
  {
   "cell_type": "code",
   "execution_count": null,
   "metadata": {},
   "outputs": [],
   "source": []
  },
  {
   "cell_type": "code",
   "execution_count": 73,
   "metadata": {
    "ExecuteTime": {
     "end_time": "2021-06-22T16:54:43.795318Z",
     "start_time": "2021-06-22T16:54:43.791637Z"
    }
   },
   "outputs": [
    {
     "data": {
      "text/plain": [
       "1099"
      ]
     },
     "execution_count": 73,
     "metadata": {},
     "output_type": "execute_result"
    }
   ],
   "source": [
    "df['Comment per Like'].idxmax()"
   ]
  },
  {
   "cell_type": "code",
   "execution_count": 70,
   "metadata": {
    "ExecuteTime": {
     "end_time": "2021-06-22T16:54:09.603014Z",
     "start_time": "2021-06-22T16:54:09.599510Z"
    }
   },
   "outputs": [
    {
     "data": {
      "text/plain": [
       "6.019056991447135"
      ]
     },
     "execution_count": 70,
     "metadata": {},
     "output_type": "execute_result"
    }
   ],
   "source": [
    "df['Comment per DisLike'].mean()"
   ]
  },
  {
   "cell_type": "code",
   "execution_count": 72,
   "metadata": {
    "ExecuteTime": {
     "end_time": "2021-06-22T16:54:27.629144Z",
     "start_time": "2021-06-22T16:54:27.625765Z"
    }
   },
   "outputs": [
    {
     "data": {
      "text/plain": [
       "0.2019758016888092"
      ]
     },
     "execution_count": 72,
     "metadata": {},
     "output_type": "execute_result"
    }
   ],
   "source": [
    "df['Comment per Like'].mean()"
   ]
  },
  {
   "cell_type": "code",
   "execution_count": 74,
   "metadata": {
    "ExecuteTime": {
     "end_time": "2021-06-22T16:55:02.268495Z",
     "start_time": "2021-06-22T16:55:02.257377Z"
    }
   },
   "outputs": [
    {
     "data": {
      "text/html": [
       "<div>\n",
       "<style scoped>\n",
       "    .dataframe tbody tr th:only-of-type {\n",
       "        vertical-align: middle;\n",
       "    }\n",
       "\n",
       "    .dataframe tbody tr th {\n",
       "        vertical-align: top;\n",
       "    }\n",
       "\n",
       "    .dataframe thead th {\n",
       "        text-align: right;\n",
       "    }\n",
       "</style>\n",
       "<table border=\"1\" class=\"dataframe\">\n",
       "  <thead>\n",
       "    <tr style=\"text-align: right;\">\n",
       "      <th></th>\n",
       "      <th>Title</th>\n",
       "      <th>id</th>\n",
       "      <th>statistics.viewCount</th>\n",
       "      <th>statistics.likeCount</th>\n",
       "      <th>statistics.dislikeCount</th>\n",
       "      <th>statistics.commentCount</th>\n",
       "      <th>Likes per Views</th>\n",
       "      <th>DisLikes per Views</th>\n",
       "      <th>Comment per Views</th>\n",
       "      <th>Comment per Like</th>\n",
       "      <th>Comment per DisLike</th>\n",
       "    </tr>\n",
       "  </thead>\n",
       "  <tbody>\n",
       "    <tr>\n",
       "      <th>1099</th>\n",
       "      <td>Occupy ASSAULTS in Denver!</td>\n",
       "      <td>ijLYAnvJ2p0</td>\n",
       "      <td>45834.0</td>\n",
       "      <td>559.0</td>\n",
       "      <td>120.0</td>\n",
       "      <td>1645.0</td>\n",
       "      <td>0.012196</td>\n",
       "      <td>0.002618</td>\n",
       "      <td>0.03589</td>\n",
       "      <td>2.942755</td>\n",
       "      <td>13.708333</td>\n",
       "    </tr>\n",
       "  </tbody>\n",
       "</table>\n",
       "</div>"
      ],
      "text/plain": [
       "                           Title           id  statistics.viewCount  \\\n",
       "1099  Occupy ASSAULTS in Denver!  ijLYAnvJ2p0               45834.0   \n",
       "\n",
       "      statistics.likeCount  statistics.dislikeCount  statistics.commentCount  \\\n",
       "1099                 559.0                    120.0                   1645.0   \n",
       "\n",
       "      Likes per Views  DisLikes per Views  Comment per Views  \\\n",
       "1099         0.012196            0.002618            0.03589   \n",
       "\n",
       "      Comment per Like  Comment per DisLike  \n",
       "1099          2.942755            13.708333  "
      ]
     },
     "execution_count": 74,
     "metadata": {},
     "output_type": "execute_result"
    }
   ],
   "source": [
    "df.loc[[1099]]"
   ]
  },
  {
   "cell_type": "code",
   "execution_count": 52,
   "metadata": {
    "ExecuteTime": {
     "end_time": "2021-06-22T16:39:58.667667Z",
     "start_time": "2021-06-22T16:39:58.657036Z"
    }
   },
   "outputs": [
    {
     "data": {
      "text/html": [
       "<div>\n",
       "<style scoped>\n",
       "    .dataframe tbody tr th:only-of-type {\n",
       "        vertical-align: middle;\n",
       "    }\n",
       "\n",
       "    .dataframe tbody tr th {\n",
       "        vertical-align: top;\n",
       "    }\n",
       "\n",
       "    .dataframe thead th {\n",
       "        text-align: right;\n",
       "    }\n",
       "</style>\n",
       "<table border=\"1\" class=\"dataframe\">\n",
       "  <thead>\n",
       "    <tr style=\"text-align: right;\">\n",
       "      <th></th>\n",
       "      <th>Title</th>\n",
       "      <th>id</th>\n",
       "      <th>statistics.viewCount</th>\n",
       "      <th>statistics.likeCount</th>\n",
       "      <th>statistics.dislikeCount</th>\n",
       "      <th>statistics.commentCount</th>\n",
       "      <th>Likes per Views</th>\n",
       "      <th>DisLikes per Views</th>\n",
       "      <th>Comment per Views</th>\n",
       "      <th>Comment per Like</th>\n",
       "      <th>Comment per DisLike</th>\n",
       "    </tr>\n",
       "  </thead>\n",
       "  <tbody>\n",
       "    <tr>\n",
       "      <th>976</th>\n",
       "      <td>Visa CEO asked about future of cryptocurrency</td>\n",
       "      <td>_G3F6bCixs0</td>\n",
       "      <td>196549.0</td>\n",
       "      <td>1715.0</td>\n",
       "      <td>109.0</td>\n",
       "      <td>3023.0</td>\n",
       "      <td>0.008726</td>\n",
       "      <td>0.000555</td>\n",
       "      <td>0.01538</td>\n",
       "      <td>1.762682</td>\n",
       "      <td>27.733945</td>\n",
       "    </tr>\n",
       "  </tbody>\n",
       "</table>\n",
       "</div>"
      ],
      "text/plain": [
       "                                             Title           id  \\\n",
       "976  Visa CEO asked about future of cryptocurrency  _G3F6bCixs0   \n",
       "\n",
       "     statistics.viewCount  statistics.likeCount  statistics.dislikeCount  \\\n",
       "976              196549.0                1715.0                    109.0   \n",
       "\n",
       "     statistics.commentCount  Likes per Views  DisLikes per Views  \\\n",
       "976                   3023.0         0.008726            0.000555   \n",
       "\n",
       "     Comment per Views  Comment per Like  Comment per DisLike  \n",
       "976            0.01538          1.762682            27.733945  "
      ]
     },
     "execution_count": 52,
     "metadata": {},
     "output_type": "execute_result"
    }
   ],
   "source": [
    "df.loc[[976]]"
   ]
  },
  {
   "cell_type": "code",
   "execution_count": null,
   "metadata": {},
   "outputs": [],
   "source": []
  }
 ],
 "metadata": {
  "kernelspec": {
   "display_name": "Python 3",
   "language": "python",
   "name": "python3"
  },
  "language_info": {
   "codemirror_mode": {
    "name": "ipython",
    "version": 3
   },
   "file_extension": ".py",
   "mimetype": "text/x-python",
   "name": "python",
   "nbconvert_exporter": "python",
   "pygments_lexer": "ipython3",
   "version": "3.8.10"
  },
  "latex_envs": {
   "LaTeX_envs_menu_present": true,
   "autoclose": false,
   "autocomplete": true,
   "bibliofile": "biblio.bib",
   "cite_by": "apalike",
   "current_citInitial": 1,
   "eqLabelWithNumbers": true,
   "eqNumInitial": 1,
   "hotkeys": {
    "equation": "Ctrl-E",
    "itemize": "Ctrl-I"
   },
   "labels_anchors": false,
   "latex_user_defs": false,
   "report_style_numbering": false,
   "user_envs_cfg": false
  },
  "toc": {
   "base_numbering": 1,
   "nav_menu": {},
   "number_sections": true,
   "sideBar": true,
   "skip_h1_title": false,
   "title_cell": "Table of Contents",
   "title_sidebar": "Contents",
   "toc_cell": false,
   "toc_position": {},
   "toc_section_display": true,
   "toc_window_display": false
  },
  "varInspector": {
   "cols": {
    "lenName": 16,
    "lenType": 16,
    "lenVar": 40
   },
   "kernels_config": {
    "python": {
     "delete_cmd_postfix": "",
     "delete_cmd_prefix": "del ",
     "library": "var_list.py",
     "varRefreshCmd": "print(var_dic_list())"
    },
    "r": {
     "delete_cmd_postfix": ") ",
     "delete_cmd_prefix": "rm(",
     "library": "var_list.r",
     "varRefreshCmd": "cat(var_dic_list()) "
    }
   },
   "types_to_exclude": [
    "module",
    "function",
    "builtin_function_or_method",
    "instance",
    "_Feature"
   ],
   "window_display": false
  }
 },
 "nbformat": 4,
 "nbformat_minor": 4
}
